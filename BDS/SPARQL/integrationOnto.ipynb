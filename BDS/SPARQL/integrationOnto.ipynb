{
 "cells": [
  {
   "cell_type": "code",
   "execution_count": 2,
   "metadata": {},
   "outputs": [
    {
     "name": "stdout",
     "output_type": "stream",
     "text": [
      "Chargement des fichiers...\n",
      "Intégration de l'ontologie...\n",
      "Création des liens owl:sameAs...\n",
      "Intégration des données...\n",
      "Sauvegarde des résultats...\n",
      "\n",
      "Statistiques:\n",
      "Triples dans l'ontologie: 22\n",
      "Triples de DBpedia: 3883\n",
      "Triples de GeoNames: 279\n",
      "Liens owl:sameAs créés: 13\n",
      "Total des triples intégrés: 4197\n"
     ]
    }
   ],
   "source": [
    "from rdflib import Graph, Namespace, URIRef, Literal, OWL\n",
    "from rdflib.namespace import RDF, RDFS\n",
    "import sys\n",
    "\n",
    "try:\n",
    "    # Initialiser les graphes\n",
    "    ontology_graph = Graph()\n",
    "    dbpedia_graph = Graph()\n",
    "    geonames_graph = Graph()\n",
    "    integrated_graph = Graph()\n",
    "\n",
    "    # Charger les fichiers\n",
    "    print(\"Chargement des fichiers...\")\n",
    "    ontology_graph.parse(\"ontology.ttl\", format=\"turtle\")\n",
    "    dbpedia_graph.parse(\"dbpedia_cities.ttl\", format=\"turtle\")\n",
    "    geonames_graph.parse(\"geonames_data.ttl\", format=\"turtle\")\n",
    "\n",
    "    # Ajouter l'ontologie\n",
    "    print(\"Intégration de l'ontologie...\")\n",
    "    for triple in ontology_graph:\n",
    "        integrated_graph.add(triple)\n",
    "\n",
    "    # Définir les namespaces\n",
    "    DBO = Namespace(\"http://dbpedia.org/ontology/\")\n",
    "    GN = Namespace(\"http://www.geonames.org/ontology#\")\n",
    "    \n",
    "    # Lier les données\n",
    "    print(\"Création des liens owl:sameAs...\")\n",
    "    def normalize_name(name):\n",
    "        return name.lower().strip()\n",
    "\n",
    "    count_links = 0\n",
    "    for dbp_city in dbpedia_graph.subjects(RDF.type, DBO.City):\n",
    "        dbp_name = str(dbpedia_graph.value(dbp_city, RDFS.label))\n",
    "        for geo_city in geonames_graph.subjects(RDF.type, GN.City):\n",
    "            geo_name = str(geonames_graph.value(geo_city, RDFS.label))\n",
    "            if normalize_name(dbp_name) == normalize_name(geo_name):\n",
    "                integrated_graph.add((dbp_city, OWL.sameAs, geo_city))\n",
    "                count_links += 1\n",
    "\n",
    "    # Ajouter toutes les données\n",
    "    print(\"Intégration des données...\")\n",
    "    for triple in dbpedia_graph:\n",
    "        integrated_graph.add(triple)\n",
    "    for triple in geonames_graph:\n",
    "        integrated_graph.add(triple)\n",
    "\n",
    "    # Sauvegarder les résultats\n",
    "    print(\"Sauvegarde des résultats...\")\n",
    "    integrated_graph.serialize(\"integrated_data2.ttl\", format=\"turtle\")\n",
    "    integrated_graph.serialize(\"integrated_data2.rdf\", format=\"xml\")\n",
    "\n",
    "    # Afficher les statistiques\n",
    "    print(f\"\\nStatistiques:\")\n",
    "    print(f\"Triples dans l'ontologie: {len(ontology_graph)}\")\n",
    "    print(f\"Triples de DBpedia: {len(dbpedia_graph)}\")\n",
    "    print(f\"Triples de GeoNames: {len(geonames_graph)}\")\n",
    "    print(f\"Liens owl:sameAs créés: {count_links}\")\n",
    "    print(f\"Total des triples intégrés: {len(integrated_graph)}\")\n",
    "\n",
    "except Exception as e:\n",
    "    print(f\"Erreur: {str(e)}\", file=sys.stderr)\n",
    "    sys.exit(1)"
   ]
  }
 ],
 "metadata": {
  "kernelspec": {
   "display_name": "Python 3",
   "language": "python",
   "name": "python3"
  },
  "language_info": {
   "codemirror_mode": {
    "name": "ipython",
    "version": 3
   },
   "file_extension": ".py",
   "mimetype": "text/x-python",
   "name": "python",
   "nbconvert_exporter": "python",
   "pygments_lexer": "ipython3",
   "version": "3.12.6"
  }
 },
 "nbformat": 4,
 "nbformat_minor": 2
}
