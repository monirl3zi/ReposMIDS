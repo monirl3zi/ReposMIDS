{
 "cells": [
  {
   "cell_type": "code",
   "execution_count": 12,
   "metadata": {},
   "outputs": [
    {
     "name": "stdout",
     "output_type": "stream",
     "text": [
      "Number of triples: 3883\n"
     ]
    }
   ],
   "source": [
    "from rdflib import Graph, Namespace, URIRef, Literal\n",
    "from rdflib.namespace import RDF, RDFS, XSD\n",
    "import requests\n",
    "\n",
    "g = Graph()\n",
    "\n",
    "DBO = Namespace(\"http://dbpedia.org/ontology/\")\n",
    "DBR = Namespace(\"http://dbpedia.org/resource/\")\n",
    "g.bind(\"dbo\", DBO)\n",
    "g.bind(\"dbr\", DBR)\n",
    "\n",
    "query = \"\"\"\n",
    "SELECT DISTINCT ?city ?cityName ?population ?monument ?monumentName\n",
    "WHERE {\n",
    " VALUES ?europeanCountry { \n",
    "   dbr:France dbr:Germany dbr:Italy dbr:Spain dbr:United_Kingdom \n",
    "   dbr:Poland dbr:Romania dbr:Netherlands dbr:Belgium dbr:Greece\n",
    "   dbr:Czech_Republic dbr:Portugal dbr:Sweden dbr:Hungary dbr:Austria \n",
    " }\n",
    " ?city a dbo:City ;\n",
    "       rdfs:label ?cityName ;\n",
    "       dbo:country ?europeanCountry .\n",
    " OPTIONAL { ?city dbo:populationTotal ?population }\n",
    " FILTER(LANG(?cityName) = \"en\")\n",
    " OPTIONAL {\n",
    "   ?monument a dbo:Monument ;\n",
    "            dbo:location ?city ;\n",
    "            rdfs:label ?monumentName .\n",
    "   FILTER(LANG(?monumentName) = \"en\")\n",
    " }\n",
    "}\n",
    "\"\"\"\n",
    "\n",
    "headers = {\n",
    "    'Accept': 'application/sparql-results+json',\n",
    "    'User-Agent': 'Mozilla/5.0'\n",
    "}\n",
    "endpoint = \"https://dbpedia.org/sparql\"\n",
    "response = requests.get(endpoint, params={'query': query, 'format': 'json'}, headers=headers)\n",
    "\n",
    "if response.status_code == 200:\n",
    "    data = response.json()\n",
    "    for result in data['results']['bindings']:\n",
    "        city_uri = URIRef(result['city']['value'])\n",
    "        g.add((city_uri, RDF.type, DBO.City))\n",
    "        g.add((city_uri, RDFS.label, Literal(result['cityName']['value'], lang='en')))\n",
    "        \n",
    "        if 'population' in result:\n",
    "            g.add((city_uri, DBO.populationTotal, Literal(int(result['population']['value']))))\n",
    "        \n",
    "        if 'monument' in result:\n",
    "            monument_uri = URIRef(result['monument']['value'])\n",
    "            g.add((monument_uri, RDF.type, DBO.Monument))\n",
    "            g.add((monument_uri, DBO.location, city_uri))\n",
    "            g.add((monument_uri, RDFS.label, Literal(result['monumentName']['value'], lang='en')))\n",
    "\n",
    "    print(f\"Number of triples: {len(g)}\")\n",
    "    g.serialize(\"dbpedia_cities.ttl\", format=\"turtle\")\n",
    "else:\n",
    "    print(f\"Error: {response.status_code}\")\n",
    "    print(response.text)"
   ]
  }
 ],
 "metadata": {
  "kernelspec": {
   "display_name": "Python 3",
   "language": "python",
   "name": "python3"
  },
  "language_info": {
   "codemirror_mode": {
    "name": "ipython",
    "version": 3
   },
   "file_extension": ".py",
   "mimetype": "text/x-python",
   "name": "python",
   "nbconvert_exporter": "python",
   "pygments_lexer": "ipython3",
   "version": "3.12.6"
  }
 },
 "nbformat": 4,
 "nbformat_minor": 2
}
